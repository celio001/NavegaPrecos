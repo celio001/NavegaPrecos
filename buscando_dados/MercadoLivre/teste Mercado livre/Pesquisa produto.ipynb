{
 "cells": [
  {
   "cell_type": "code",
   "execution_count": 1,
   "id": "682c2dea",
   "metadata": {},
   "outputs": [],
   "source": [
    "from selenium import webdriver\n",
    "from selenium.webdriver.chrome.service import Service as ChromeService\n",
    "from selenium.webdriver.chrome.options import Options\n",
    "from webdriver_manager.chrome import ChromeDriverManager\n",
    "from selenium.webdriver.common.by import By\n",
    "from selenium.webdriver.common.keys import Keys\n",
    "from selenium.webdriver.support.ui import WebDriverWait\n",
    "from selenium.webdriver.support import expected_conditions as EC\n",
    "import os"
   ]
  },
  {
   "cell_type": "code",
   "execution_count": 2,
   "id": "8509e995",
   "metadata": {},
   "outputs": [],
   "source": [
    "produtoParaPesquisar = \"Celular\" #Produto a ser pesquisado"
   ]
  },
  {
   "cell_type": "code",
   "execution_count": 3,
   "id": "5b40a026",
   "metadata": {},
   "outputs": [],
   "source": [
    "def iniciar_driver():\n",
    "    chrome_options = Options()\n",
    "    arguments = ['--lang=pt-BR', '--window-size=800,600',\n",
    "                 '--incognito']\n",
    "    for argument in arguments:\n",
    "        chrome_options.add_argument(argument)\n",
    "\n",
    "    chrome_options.add_experimental_option('prefs', {\n",
    "        'download.prompt_for_download': False,\n",
    "        'profile.default_content_setting_values.notifications': 2,\n",
    "        'profile.default_content_setting_values.automatic_downloads': 1,\n",
    "    })\n",
    "\n",
    "    driver = webdriver.Chrome(service=ChromeService(\n",
    "        ChromeDriverManager().install()), options=chrome_options)\n",
    "    return driver"
   ]
  },
  {
   "cell_type": "code",
   "execution_count": 4,
   "id": "41e4402d",
   "metadata": {},
   "outputs": [],
   "source": [
    "driver = iniciar_driver()"
   ]
  },
  {
   "cell_type": "code",
   "execution_count": 5,
   "id": "e223ec57",
   "metadata": {},
   "outputs": [],
   "source": [
    "# Pega o elemento DOM da pagina somente quando ele carregar\n",
    "def _querySelector(by: By, id: str):\n",
    "    print(id)\n",
    "    # Definir um tempo máximo de espera o elemento carregar de até 20 segundos\n",
    "    wait = WebDriverWait(driver, 15)\n",
    "    # Aguardar até que o elemento carregue\n",
    "    wait.until(EC.presence_of_element_located((by, id)))\n",
    "    return driver.find_element(by, id)"
   ]
  },
  {
   "cell_type": "code",
   "execution_count": 6,
   "id": "fdcc67c2",
   "metadata": {},
   "outputs": [],
   "source": [
    "def _pesquisarMercadoLivre():\n",
    "        # entra no site\n",
    "        driver.get('https://www.mercadolivre.com.br/')\n",
    "        \n",
    "        os.system('cls')  # limpa o pronpt de comando\n",
    "        print(\"Vamos começar a pesquisa...\")\n",
    "\n",
    "        #limpa a barra de pesquisa para evitar que ele escreva por cima de outra pesquisa\n",
    "        driver.execute_script(\n",
    "            f\"document.querySelector('input.nav-search-input').value = ''\")\n",
    "\n",
    "        # Selecionamos o input de pesquisa do mercado livre e escrevermos a opção de pesquisa e inicia a pesquisa\n",
    "        _querySelector(By.CSS_SELECTOR, 'input.nav-search-input').send_keys(\n",
    "            produtoParaPesquisar + Keys.RETURN)\n",
    "\n",
    "        _querySelector(\n",
    "            By.CSS_SELECTOR, '.andes-dropdown__standalone-arrow').click()\n",
    "        \n",
    "        #Tratar erro nessa parte\n",
    "        _querySelector(\n",
    "            By.CSS_SELECTOR, 'li[data-key=\"price_asc\"]').click()"
   ]
  },
  {
   "cell_type": "code",
   "execution_count": 7,
   "id": "b2aa2cd3",
   "metadata": {},
   "outputs": [
    {
     "name": "stdout",
     "output_type": "stream",
     "text": [
      "Vamos começar a pesquisa...\n",
      "input.nav-search-input\n",
      ".andes-dropdown__standalone-arrow\n",
      "li[data-key=\"price_asc\"]\n"
     ]
    },
    {
     "ename": "TimeoutException",
     "evalue": "Message: \nStacktrace:\nBacktrace:\n\tGetHandleVerifier [0x00C62B63+47795]\n\t(No symbol) [0x00BF67E1]\n\t(No symbol) [0x00AFC7ED]\n\t(No symbol) [0x00B29AC8]\n\t(No symbol) [0x00B29B8B]\n\t(No symbol) [0x00B58A82]\n\t(No symbol) [0x00B44D14]\n\t(No symbol) [0x00B571DA]\n\t(No symbol) [0x00B44AC6]\n\t(No symbol) [0x00B213D7]\n\t(No symbol) [0x00B2255D]\n\tGetHandleVerifier [0x00EB6F89+2490073]\n\tGetHandleVerifier [0x00EFC361+2773681]\n\tGetHandleVerifier [0x00EF6211+2748769]\n\tGetHandleVerifier [0x00CE16B0+566784]\n\t(No symbol) [0x00C0019A]\n\t(No symbol) [0x00BFC418]\n\t(No symbol) [0x00BFC4FB]\n\t(No symbol) [0x00BEF317]\n\tBaseThreadInitThunk [0x766F00C9+25]\n\tRtlGetAppContainerNamedObjectPath [0x77C37B1E+286]\n\tRtlGetAppContainerNamedObjectPath [0x77C37AEE+238]\n",
     "output_type": "error",
     "traceback": [
      "\u001b[1;31m---------------------------------------------------------------------------\u001b[0m",
      "\u001b[1;31mTimeoutException\u001b[0m                          Traceback (most recent call last)",
      "\u001b[1;32m~\\AppData\\Local\\Temp\\ipykernel_9516\\1817551443.py\u001b[0m in \u001b[0;36m<module>\u001b[1;34m\u001b[0m\n\u001b[1;32m----> 1\u001b[1;33m \u001b[0m_pesquisarMercadoLivre\u001b[0m\u001b[1;33m(\u001b[0m\u001b[1;33m)\u001b[0m\u001b[1;33m\u001b[0m\u001b[1;33m\u001b[0m\u001b[0m\n\u001b[0m",
      "\u001b[1;32m~\\AppData\\Local\\Temp\\ipykernel_9516\\4093565318.py\u001b[0m in \u001b[0;36m_pesquisarMercadoLivre\u001b[1;34m()\u001b[0m\n\u001b[0;32m     16\u001b[0m         _querySelector(\n\u001b[0;32m     17\u001b[0m             By.CSS_SELECTOR, '.andes-dropdown__standalone-arrow').click()\n\u001b[1;32m---> 18\u001b[1;33m         _querySelector(\n\u001b[0m\u001b[0;32m     19\u001b[0m             By.CSS_SELECTOR, 'li[data-key=\"price_asc\"]').click()\n",
      "\u001b[1;32m~\\AppData\\Local\\Temp\\ipykernel_9516\\1477094019.py\u001b[0m in \u001b[0;36m_querySelector\u001b[1;34m(by, id)\u001b[0m\n\u001b[0;32m      5\u001b[0m     \u001b[0mwait\u001b[0m \u001b[1;33m=\u001b[0m \u001b[0mWebDriverWait\u001b[0m\u001b[1;33m(\u001b[0m\u001b[0mdriver\u001b[0m\u001b[1;33m,\u001b[0m \u001b[1;36m15\u001b[0m\u001b[1;33m)\u001b[0m\u001b[1;33m\u001b[0m\u001b[1;33m\u001b[0m\u001b[0m\n\u001b[0;32m      6\u001b[0m     \u001b[1;31m# Aguardar até que o elemento carregue\u001b[0m\u001b[1;33m\u001b[0m\u001b[1;33m\u001b[0m\u001b[0m\n\u001b[1;32m----> 7\u001b[1;33m     \u001b[0mwait\u001b[0m\u001b[1;33m.\u001b[0m\u001b[0muntil\u001b[0m\u001b[1;33m(\u001b[0m\u001b[0mEC\u001b[0m\u001b[1;33m.\u001b[0m\u001b[0mpresence_of_element_located\u001b[0m\u001b[1;33m(\u001b[0m\u001b[1;33m(\u001b[0m\u001b[0mby\u001b[0m\u001b[1;33m,\u001b[0m \u001b[0mid\u001b[0m\u001b[1;33m)\u001b[0m\u001b[1;33m)\u001b[0m\u001b[1;33m)\u001b[0m\u001b[1;33m\u001b[0m\u001b[1;33m\u001b[0m\u001b[0m\n\u001b[0m\u001b[0;32m      8\u001b[0m     \u001b[1;32mreturn\u001b[0m \u001b[0mdriver\u001b[0m\u001b[1;33m.\u001b[0m\u001b[0mfind_element\u001b[0m\u001b[1;33m(\u001b[0m\u001b[0mby\u001b[0m\u001b[1;33m,\u001b[0m \u001b[0mid\u001b[0m\u001b[1;33m)\u001b[0m\u001b[1;33m\u001b[0m\u001b[1;33m\u001b[0m\u001b[0m\n",
      "\u001b[1;32mC:\\Anaconda\\lib\\site-packages\\selenium\\webdriver\\support\\wait.py\u001b[0m in \u001b[0;36muntil\u001b[1;34m(self, method, message)\u001b[0m\n\u001b[0;32m     93\u001b[0m             \u001b[1;32mif\u001b[0m \u001b[0mtime\u001b[0m\u001b[1;33m.\u001b[0m\u001b[0mmonotonic\u001b[0m\u001b[1;33m(\u001b[0m\u001b[1;33m)\u001b[0m \u001b[1;33m>\u001b[0m \u001b[0mend_time\u001b[0m\u001b[1;33m:\u001b[0m\u001b[1;33m\u001b[0m\u001b[1;33m\u001b[0m\u001b[0m\n\u001b[0;32m     94\u001b[0m                 \u001b[1;32mbreak\u001b[0m\u001b[1;33m\u001b[0m\u001b[1;33m\u001b[0m\u001b[0m\n\u001b[1;32m---> 95\u001b[1;33m         \u001b[1;32mraise\u001b[0m \u001b[0mTimeoutException\u001b[0m\u001b[1;33m(\u001b[0m\u001b[0mmessage\u001b[0m\u001b[1;33m,\u001b[0m \u001b[0mscreen\u001b[0m\u001b[1;33m,\u001b[0m \u001b[0mstacktrace\u001b[0m\u001b[1;33m)\u001b[0m\u001b[1;33m\u001b[0m\u001b[1;33m\u001b[0m\u001b[0m\n\u001b[0m\u001b[0;32m     96\u001b[0m \u001b[1;33m\u001b[0m\u001b[0m\n\u001b[0;32m     97\u001b[0m     \u001b[1;32mdef\u001b[0m \u001b[0muntil_not\u001b[0m\u001b[1;33m(\u001b[0m\u001b[0mself\u001b[0m\u001b[1;33m,\u001b[0m \u001b[0mmethod\u001b[0m\u001b[1;33m,\u001b[0m \u001b[0mmessage\u001b[0m\u001b[1;33m:\u001b[0m \u001b[0mstr\u001b[0m \u001b[1;33m=\u001b[0m \u001b[1;34m\"\"\u001b[0m\u001b[1;33m)\u001b[0m\u001b[1;33m:\u001b[0m\u001b[1;33m\u001b[0m\u001b[1;33m\u001b[0m\u001b[0m\n",
      "\u001b[1;31mTimeoutException\u001b[0m: Message: \nStacktrace:\nBacktrace:\n\tGetHandleVerifier [0x00C62B63+47795]\n\t(No symbol) [0x00BF67E1]\n\t(No symbol) [0x00AFC7ED]\n\t(No symbol) [0x00B29AC8]\n\t(No symbol) [0x00B29B8B]\n\t(No symbol) [0x00B58A82]\n\t(No symbol) [0x00B44D14]\n\t(No symbol) [0x00B571DA]\n\t(No symbol) [0x00B44AC6]\n\t(No symbol) [0x00B213D7]\n\t(No symbol) [0x00B2255D]\n\tGetHandleVerifier [0x00EB6F89+2490073]\n\tGetHandleVerifier [0x00EFC361+2773681]\n\tGetHandleVerifier [0x00EF6211+2748769]\n\tGetHandleVerifier [0x00CE16B0+566784]\n\t(No symbol) [0x00C0019A]\n\t(No symbol) [0x00BFC418]\n\t(No symbol) [0x00BFC4FB]\n\t(No symbol) [0x00BEF317]\n\tBaseThreadInitThunk [0x766F00C9+25]\n\tRtlGetAppContainerNamedObjectPath [0x77C37B1E+286]\n\tRtlGetAppContainerNamedObjectPath [0x77C37AEE+238]\n"
     ]
    }
   ],
   "source": [
    "_pesquisarMercadoLivre()"
   ]
  },
  {
   "cell_type": "code",
   "execution_count": null,
   "id": "30fb723a",
   "metadata": {},
   "outputs": [],
   "source": [
    "if input(\"Posso fechar o navegador ? (s/n)\\n\").upper() == 'S':\n",
    "    driver.close()\n",
    "else:\n",
    "    print(\"Navegador permanecera aberto\")"
   ]
  },
  {
   "cell_type": "code",
   "execution_count": 8,
   "id": "11eedde1",
   "metadata": {},
   "outputs": [
    {
     "name": "stdout",
     "output_type": "stream",
     "text": [
      "a[aria-label=\"Melhores vendedores\"]\n"
     ]
    },
    {
     "ename": "ElementClickInterceptedException",
     "evalue": "Message: element click intercepted: Element <a href=\"https://lista.mercadolivre.com.br/celulares-telefones/celulares-smartphones/celular_BestSellers_YES_NoIndex_True#applied_filter_id%3Dpower_seller%26applied_filter_name%3DFiltro+MercadoL%C3%ADderes%26applied_filter_order%3D27%26applied_value_id%3Dyes%26applied_value_name%3DMelhores+vendedores%26applied_value_order%3D1%26applied_value_results%3D11591%26is_custom%3Dfalse\" class=\"ui-search-link\" rel=\"nofollow\" aria-label=\"Melhores vendedores\">...</a> is not clickable at point (167, 597). Other element would receive the click: <div class=\"cookie-consent-banner-opt-out__container\">...</div>\n  (Session info: chrome=115.0.5790.171)\nStacktrace:\nBacktrace:\n\tGetHandleVerifier [0x00C62B63+47795]\n\t(No symbol) [0x00BF67E1]\n\t(No symbol) [0x00AFC7ED]\n\t(No symbol) [0x00B2DF96]\n\t(No symbol) [0x00B2CC09]\n\t(No symbol) [0x00B2B3DB]\n\t(No symbol) [0x00B2A835]\n\t(No symbol) [0x00B23130]\n\t(No symbol) [0x00B44CCC]\n\t(No symbol) [0x00B22BC6]\n\t(No symbol) [0x00B45024]\n\t(No symbol) [0x00B571DA]\n\t(No symbol) [0x00B44AC6]\n\t(No symbol) [0x00B213D7]\n\t(No symbol) [0x00B2255D]\n\tGetHandleVerifier [0x00EB6F89+2490073]\n\tGetHandleVerifier [0x00EFC361+2773681]\n\tGetHandleVerifier [0x00EF6211+2748769]\n\tGetHandleVerifier [0x00CE16B0+566784]\n\t(No symbol) [0x00C0019A]\n\t(No symbol) [0x00BFC418]\n\t(No symbol) [0x00BFC4FB]\n\t(No symbol) [0x00BEF317]\n\tBaseThreadInitThunk [0x766F00C9+25]\n\tRtlGetAppContainerNamedObjectPath [0x77C37B1E+286]\n\tRtlGetAppContainerNamedObjectPath [0x77C37AEE+238]\n",
     "output_type": "error",
     "traceback": [
      "\u001b[1;31m---------------------------------------------------------------------------\u001b[0m",
      "\u001b[1;31mElementClickInterceptedException\u001b[0m          Traceback (most recent call last)",
      "\u001b[1;32m~\\AppData\\Local\\Temp\\ipykernel_9516\\2865881011.py\u001b[0m in \u001b[0;36m<module>\u001b[1;34m\u001b[0m\n\u001b[1;32m----> 1\u001b[1;33m \u001b[0m_querySelector\u001b[0m\u001b[1;33m(\u001b[0m\u001b[0mBy\u001b[0m\u001b[1;33m.\u001b[0m\u001b[0mCSS_SELECTOR\u001b[0m\u001b[1;33m,\u001b[0m \u001b[1;34m'a[aria-label=\"Melhores vendedores\"]'\u001b[0m\u001b[1;33m)\u001b[0m\u001b[1;33m.\u001b[0m\u001b[0mclick\u001b[0m\u001b[1;33m(\u001b[0m\u001b[1;33m)\u001b[0m\u001b[1;33m\u001b[0m\u001b[1;33m\u001b[0m\u001b[0m\n\u001b[0m",
      "\u001b[1;32mC:\\Anaconda\\lib\\site-packages\\selenium\\webdriver\\remote\\webelement.py\u001b[0m in \u001b[0;36mclick\u001b[1;34m(self)\u001b[0m\n\u001b[0;32m     92\u001b[0m     \u001b[1;32mdef\u001b[0m \u001b[0mclick\u001b[0m\u001b[1;33m(\u001b[0m\u001b[0mself\u001b[0m\u001b[1;33m)\u001b[0m \u001b[1;33m->\u001b[0m \u001b[1;32mNone\u001b[0m\u001b[1;33m:\u001b[0m\u001b[1;33m\u001b[0m\u001b[1;33m\u001b[0m\u001b[0m\n\u001b[0;32m     93\u001b[0m         \u001b[1;34m\"\"\"Clicks the element.\"\"\"\u001b[0m\u001b[1;33m\u001b[0m\u001b[1;33m\u001b[0m\u001b[0m\n\u001b[1;32m---> 94\u001b[1;33m         \u001b[0mself\u001b[0m\u001b[1;33m.\u001b[0m\u001b[0m_execute\u001b[0m\u001b[1;33m(\u001b[0m\u001b[0mCommand\u001b[0m\u001b[1;33m.\u001b[0m\u001b[0mCLICK_ELEMENT\u001b[0m\u001b[1;33m)\u001b[0m\u001b[1;33m\u001b[0m\u001b[1;33m\u001b[0m\u001b[0m\n\u001b[0m\u001b[0;32m     95\u001b[0m \u001b[1;33m\u001b[0m\u001b[0m\n\u001b[0;32m     96\u001b[0m     \u001b[1;32mdef\u001b[0m \u001b[0msubmit\u001b[0m\u001b[1;33m(\u001b[0m\u001b[0mself\u001b[0m\u001b[1;33m)\u001b[0m\u001b[1;33m:\u001b[0m\u001b[1;33m\u001b[0m\u001b[1;33m\u001b[0m\u001b[0m\n",
      "\u001b[1;32mC:\\Anaconda\\lib\\site-packages\\selenium\\webdriver\\remote\\webelement.py\u001b[0m in \u001b[0;36m_execute\u001b[1;34m(self, command, params)\u001b[0m\n\u001b[0;32m    393\u001b[0m             \u001b[0mparams\u001b[0m \u001b[1;33m=\u001b[0m \u001b[1;33m{\u001b[0m\u001b[1;33m}\u001b[0m\u001b[1;33m\u001b[0m\u001b[1;33m\u001b[0m\u001b[0m\n\u001b[0;32m    394\u001b[0m         \u001b[0mparams\u001b[0m\u001b[1;33m[\u001b[0m\u001b[1;34m\"id\"\u001b[0m\u001b[1;33m]\u001b[0m \u001b[1;33m=\u001b[0m \u001b[0mself\u001b[0m\u001b[1;33m.\u001b[0m\u001b[0m_id\u001b[0m\u001b[1;33m\u001b[0m\u001b[1;33m\u001b[0m\u001b[0m\n\u001b[1;32m--> 395\u001b[1;33m         \u001b[1;32mreturn\u001b[0m \u001b[0mself\u001b[0m\u001b[1;33m.\u001b[0m\u001b[0m_parent\u001b[0m\u001b[1;33m.\u001b[0m\u001b[0mexecute\u001b[0m\u001b[1;33m(\u001b[0m\u001b[0mcommand\u001b[0m\u001b[1;33m,\u001b[0m \u001b[0mparams\u001b[0m\u001b[1;33m)\u001b[0m\u001b[1;33m\u001b[0m\u001b[1;33m\u001b[0m\u001b[0m\n\u001b[0m\u001b[0;32m    396\u001b[0m \u001b[1;33m\u001b[0m\u001b[0m\n\u001b[0;32m    397\u001b[0m     \u001b[1;32mdef\u001b[0m \u001b[0mfind_element\u001b[0m\u001b[1;33m(\u001b[0m\u001b[0mself\u001b[0m\u001b[1;33m,\u001b[0m \u001b[0mby\u001b[0m\u001b[1;33m=\u001b[0m\u001b[0mBy\u001b[0m\u001b[1;33m.\u001b[0m\u001b[0mID\u001b[0m\u001b[1;33m,\u001b[0m \u001b[0mvalue\u001b[0m\u001b[1;33m=\u001b[0m\u001b[1;32mNone\u001b[0m\u001b[1;33m)\u001b[0m \u001b[1;33m->\u001b[0m \u001b[0mWebElement\u001b[0m\u001b[1;33m:\u001b[0m\u001b[1;33m\u001b[0m\u001b[1;33m\u001b[0m\u001b[0m\n",
      "\u001b[1;32mC:\\Anaconda\\lib\\site-packages\\selenium\\webdriver\\remote\\webdriver.py\u001b[0m in \u001b[0;36mexecute\u001b[1;34m(self, driver_command, params)\u001b[0m\n\u001b[0;32m    343\u001b[0m         \u001b[0mresponse\u001b[0m \u001b[1;33m=\u001b[0m \u001b[0mself\u001b[0m\u001b[1;33m.\u001b[0m\u001b[0mcommand_executor\u001b[0m\u001b[1;33m.\u001b[0m\u001b[0mexecute\u001b[0m\u001b[1;33m(\u001b[0m\u001b[0mdriver_command\u001b[0m\u001b[1;33m,\u001b[0m \u001b[0mparams\u001b[0m\u001b[1;33m)\u001b[0m\u001b[1;33m\u001b[0m\u001b[1;33m\u001b[0m\u001b[0m\n\u001b[0;32m    344\u001b[0m         \u001b[1;32mif\u001b[0m \u001b[0mresponse\u001b[0m\u001b[1;33m:\u001b[0m\u001b[1;33m\u001b[0m\u001b[1;33m\u001b[0m\u001b[0m\n\u001b[1;32m--> 345\u001b[1;33m             \u001b[0mself\u001b[0m\u001b[1;33m.\u001b[0m\u001b[0merror_handler\u001b[0m\u001b[1;33m.\u001b[0m\u001b[0mcheck_response\u001b[0m\u001b[1;33m(\u001b[0m\u001b[0mresponse\u001b[0m\u001b[1;33m)\u001b[0m\u001b[1;33m\u001b[0m\u001b[1;33m\u001b[0m\u001b[0m\n\u001b[0m\u001b[0;32m    346\u001b[0m             \u001b[0mresponse\u001b[0m\u001b[1;33m[\u001b[0m\u001b[1;34m\"value\"\u001b[0m\u001b[1;33m]\u001b[0m \u001b[1;33m=\u001b[0m \u001b[0mself\u001b[0m\u001b[1;33m.\u001b[0m\u001b[0m_unwrap_value\u001b[0m\u001b[1;33m(\u001b[0m\u001b[0mresponse\u001b[0m\u001b[1;33m.\u001b[0m\u001b[0mget\u001b[0m\u001b[1;33m(\u001b[0m\u001b[1;34m\"value\"\u001b[0m\u001b[1;33m,\u001b[0m \u001b[1;32mNone\u001b[0m\u001b[1;33m)\u001b[0m\u001b[1;33m)\u001b[0m\u001b[1;33m\u001b[0m\u001b[1;33m\u001b[0m\u001b[0m\n\u001b[0;32m    347\u001b[0m             \u001b[1;32mreturn\u001b[0m \u001b[0mresponse\u001b[0m\u001b[1;33m\u001b[0m\u001b[1;33m\u001b[0m\u001b[0m\n",
      "\u001b[1;32mC:\\Anaconda\\lib\\site-packages\\selenium\\webdriver\\remote\\errorhandler.py\u001b[0m in \u001b[0;36mcheck_response\u001b[1;34m(self, response)\u001b[0m\n\u001b[0;32m    227\u001b[0m                 \u001b[0malert_text\u001b[0m \u001b[1;33m=\u001b[0m \u001b[0mvalue\u001b[0m\u001b[1;33m[\u001b[0m\u001b[1;34m\"alert\"\u001b[0m\u001b[1;33m]\u001b[0m\u001b[1;33m.\u001b[0m\u001b[0mget\u001b[0m\u001b[1;33m(\u001b[0m\u001b[1;34m\"text\"\u001b[0m\u001b[1;33m)\u001b[0m\u001b[1;33m\u001b[0m\u001b[1;33m\u001b[0m\u001b[0m\n\u001b[0;32m    228\u001b[0m             \u001b[1;32mraise\u001b[0m \u001b[0mexception_class\u001b[0m\u001b[1;33m(\u001b[0m\u001b[0mmessage\u001b[0m\u001b[1;33m,\u001b[0m \u001b[0mscreen\u001b[0m\u001b[1;33m,\u001b[0m \u001b[0mstacktrace\u001b[0m\u001b[1;33m,\u001b[0m \u001b[0malert_text\u001b[0m\u001b[1;33m)\u001b[0m  \u001b[1;31m# type: ignore[call-arg]  # mypy is not smart enough here\u001b[0m\u001b[1;33m\u001b[0m\u001b[1;33m\u001b[0m\u001b[0m\n\u001b[1;32m--> 229\u001b[1;33m         \u001b[1;32mraise\u001b[0m \u001b[0mexception_class\u001b[0m\u001b[1;33m(\u001b[0m\u001b[0mmessage\u001b[0m\u001b[1;33m,\u001b[0m \u001b[0mscreen\u001b[0m\u001b[1;33m,\u001b[0m \u001b[0mstacktrace\u001b[0m\u001b[1;33m)\u001b[0m\u001b[1;33m\u001b[0m\u001b[1;33m\u001b[0m\u001b[0m\n\u001b[0m",
      "\u001b[1;31mElementClickInterceptedException\u001b[0m: Message: element click intercepted: Element <a href=\"https://lista.mercadolivre.com.br/celulares-telefones/celulares-smartphones/celular_BestSellers_YES_NoIndex_True#applied_filter_id%3Dpower_seller%26applied_filter_name%3DFiltro+MercadoL%C3%ADderes%26applied_filter_order%3D27%26applied_value_id%3Dyes%26applied_value_name%3DMelhores+vendedores%26applied_value_order%3D1%26applied_value_results%3D11591%26is_custom%3Dfalse\" class=\"ui-search-link\" rel=\"nofollow\" aria-label=\"Melhores vendedores\">...</a> is not clickable at point (167, 597). Other element would receive the click: <div class=\"cookie-consent-banner-opt-out__container\">...</div>\n  (Session info: chrome=115.0.5790.171)\nStacktrace:\nBacktrace:\n\tGetHandleVerifier [0x00C62B63+47795]\n\t(No symbol) [0x00BF67E1]\n\t(No symbol) [0x00AFC7ED]\n\t(No symbol) [0x00B2DF96]\n\t(No symbol) [0x00B2CC09]\n\t(No symbol) [0x00B2B3DB]\n\t(No symbol) [0x00B2A835]\n\t(No symbol) [0x00B23130]\n\t(No symbol) [0x00B44CCC]\n\t(No symbol) [0x00B22BC6]\n\t(No symbol) [0x00B45024]\n\t(No symbol) [0x00B571DA]\n\t(No symbol) [0x00B44AC6]\n\t(No symbol) [0x00B213D7]\n\t(No symbol) [0x00B2255D]\n\tGetHandleVerifier [0x00EB6F89+2490073]\n\tGetHandleVerifier [0x00EFC361+2773681]\n\tGetHandleVerifier [0x00EF6211+2748769]\n\tGetHandleVerifier [0x00CE16B0+566784]\n\t(No symbol) [0x00C0019A]\n\t(No symbol) [0x00BFC418]\n\t(No symbol) [0x00BFC4FB]\n\t(No symbol) [0x00BEF317]\n\tBaseThreadInitThunk [0x766F00C9+25]\n\tRtlGetAppContainerNamedObjectPath [0x77C37B1E+286]\n\tRtlGetAppContainerNamedObjectPath [0x77C37AEE+238]\n"
     ]
    }
   ],
   "source": [
    "_querySelector(By.CSS_SELECTOR, 'a[aria-label=\"Melhores vendedores\"]').click()"
   ]
  },
  {
   "cell_type": "code",
   "execution_count": null,
   "id": "98f690c0",
   "metadata": {},
   "outputs": [],
   "source": []
  }
 ],
 "metadata": {
  "kernelspec": {
   "display_name": "Python 3 (ipykernel)",
   "language": "python",
   "name": "python3"
  },
  "language_info": {
   "codemirror_mode": {
    "name": "ipython",
    "version": 3
   },
   "file_extension": ".py",
   "mimetype": "text/x-python",
   "name": "python",
   "nbconvert_exporter": "python",
   "pygments_lexer": "ipython3",
   "version": "3.9.13"
  }
 },
 "nbformat": 4,
 "nbformat_minor": 5
}
